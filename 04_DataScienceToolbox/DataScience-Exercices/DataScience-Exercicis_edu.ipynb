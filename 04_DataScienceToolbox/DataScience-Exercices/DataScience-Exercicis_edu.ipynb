{
 "cells": [
  {
   "cell_type": "markdown",
   "metadata": {},
   "source": [
    "# Exercises\n"
   ]
  },
  {
   "cell_type": "markdown",
   "metadata": {},
   "source": [
    "## 1. Software Carpentry"
   ]
  },
  {
   "cell_type": "markdown",
   "metadata": {},
   "source": [
    "1) Write a command-line program that does addition or subtraction or multiply. By default it sums up the two values. Check  `ArgumentParser.add_mutually_exclusive_group()` functionality.\n",
    "\n",
    "    `python arith.py -a 1 2 / python arith.py --add 1 2`\n",
    "\n",
    "    `> 3`\n",
    "\n",
    "    `python arith.py -s 3 4 / python arith.py --subtraction 3 4`\n",
    "\n",
    "    `> -1`\n",
    "\n",
    "    `python arith.py -m 2 4 /  python arith.py --multiply 2 4`\n",
    "\n",
    "    `> 8`"
   ]
  },
  {
   "cell_type": "markdown",
   "metadata": {},
   "source": [
    "2) Write a function called `average` that calculates the average of the numbers in a list. What pre-conditions and post-conditions would you write for it?"
   ]
  },
  {
   "cell_type": "markdown",
   "metadata": {},
   "source": [
    "## 2. Numpy"
   ]
  },
  {
   "cell_type": "markdown",
   "metadata": {},
   "source": [
    "1) In the following table we have expression values for 5 genes at 4 time points. "
   ]
  },
  {
   "cell_type": "code",
   "execution_count": 15,
   "metadata": {},
   "outputs": [
    {
     "name": "stdout",
     "output_type": "stream",
     "text": [
      "Gene name,4h,12h,24h,48h\r\n",
      "A2M,0.12,0.08,0.06,0.02\r\n",
      "FOS,0.01,0.07,0.11,0.09\r\n",
      "BRCA2,0.03,0.04,0.04,0.02\r\n",
      "CPOX,0.05,0.09,0.11,0.14"
     ]
    },
    {
     "data": {
      "text/html": [
       "<a href='genes.csv' target='_blank'>genes.csv</a><br>"
      ],
      "text/plain": [
       "/home/edu2/PostGrau/Postgrau/04_DataScienceToolbox/DataScience-Exercices/genes.csv"
      ]
     },
     "execution_count": 15,
     "metadata": {},
     "output_type": "execute_result"
    }
   ],
   "source": [
    "from IPython.lib import display as dp\n",
    "!cat 'genes.csv' \n",
    "dp.FileLink('genes.csv')"
   ]
  },
  {
   "cell_type": "markdown",
   "metadata": {},
   "source": [
    "   - Create a single array for the data (4x4)\n",
    "   - Find the mean value per gene\n",
    "   - Find the mean value per time point\n",
    "   - Which gene has the maximum mean expression value? (return the whole gene row)"
   ]
  },
  {
   "cell_type": "code",
   "execution_count": 26,
   "metadata": {},
   "outputs": [
    {
     "name": "stdout",
     "output_type": "stream",
     "text": [
      "Mean values Time  [0.06333333 0.03666667 0.08666667]\n",
      "Mean values Gene  [0.05333333 0.06333333 0.07      ]\n"
     ]
    }
   ],
   "source": [
    "#Your Code here\n",
    "import numpy as np\n",
    "fin=open('genes.csv','r')\n",
    "lines=fin.readlines()\n",
    "columns=lines[0].split(',')\n",
    "rows = []\n",
    "i=0\n",
    "data=np.zeros((3,3),float)\n",
    "for l in lines[1:4]:\n",
    "    ls=l.split(',')\n",
    "    rows.append(ls[0])\n",
    "    for j in range(1,4):\n",
    "        data[i-1,j-1]=float(ls[j])\n",
    "    i+=1\n",
    "print ('Mean values Time ',data.mean(axis=1))\n",
    "print ('Mean values Gene ',data.mean(axis=0))"
   ]
  },
  {
   "cell_type": "markdown",
   "metadata": {},
   "source": [
    "## 3. Pandas\n",
    "\n",
    "**MovieLens database**"
   ]
  },
  {
   "cell_type": "markdown",
   "metadata": {},
   "source": [
    "1- Filter films that have received at least 250 ratings:"
   ]
  },
  {
   "cell_type": "code",
   "execution_count": 83,
   "metadata": {
    "scrolled": true
   },
   "outputs": [],
   "source": [
    "import pandas as pd\n",
    "\n",
    "users_data =  '../ml-1m/users.dat'\n",
    "ratings_data = '../ml-1m/ratings.dat'\n",
    "movies_data =  '../ml-1m/movies.dat'\n",
    "\n",
    "\n",
    "unames = ['user_id', 'gender', 'age', 'occupation', 'zip']\n",
    "users = pd.read_csv(users_data, sep='::', header=None, names=unames, engine='python')\n",
    "rnames = ['user_id', 'movie_id', 'rating', 'timestamp']\n",
    "ratings = pd.read_csv(ratings_data, sep='::', header=None, names=rnames,  engine='python')\n",
    "mnames = ['movie_id', 'title', 'genres']\n",
    "movies = pd.read_csv(movies_data, sep='::', header=None, names=mnames,  engine='python')"
   ]
  },
  {
   "cell_type": "code",
   "execution_count": 84,
   "metadata": {},
   "outputs": [],
   "source": [
    "##### Presented pd functions:  ####\n",
    "# pd.read_csv\n",
    "# pd.pivot_table(filtered_data, values='Value', index=['GEO'],columns = ['TIME'])\n",
    "# data = pd.merge(pd.merge(ratings, users), movies)\n",
    "# football = pd.DataFrame(data,columns=['year','team','wins','draws','losses'])\n",
    "# c = pd.Series([1956, 1967, 1989, 2000])\n",
    "# rng = pd.date_range('1/1/2011', periods=72, freq='H')\n",
    "# edu.shape\n",
    "# type(edu)\n",
    "# edu.head()\n",
    "# edu.columns\n",
    "# edu.index\n",
    "# edu.values\n",
    "# edu.loc\n",
    "# edu.iloc\n",
    "# edu.groupby\n"
   ]
  },
  {
   "cell_type": "code",
   "execution_count": 86,
   "metadata": {},
   "outputs": [
    {
     "name": "stdout",
     "output_type": "stream",
     "text": [
      "(1000209, 10)\n",
      "Index(['user_id', 'movie_id', 'rating', 'timestamp', 'gender', 'age',\n",
      "       'occupation', 'zip', 'title', 'genres'],\n",
      "      dtype='object')\n",
      "(1000209, 10)\n",
      "American Beauty (1999)                                            3428\n",
      "Star Wars: Episode IV - A New Hope (1977)                         2991\n",
      "Star Wars: Episode V - The Empire Strikes Back (1980)             2990\n",
      "Star Wars: Episode VI - Return of the Jedi (1983)                 2883\n",
      "Jurassic Park (1993)                                              2672\n",
      "Saving Private Ryan (1998)                                        2653\n",
      "Terminator 2: Judgment Day (1991)                                 2649\n",
      "Matrix, The (1999)                                                2590\n",
      "Back to the Future (1985)                                         2583\n",
      "Silence of the Lambs, The (1991)                                  2578\n",
      "Men in Black (1997)                                               2538\n",
      "Raiders of the Lost Ark (1981)                                    2514\n",
      "Fargo (1996)                                                      2513\n",
      "Sixth Sense, The (1999)                                           2459\n",
      "Braveheart (1995)                                                 2443\n",
      "Shakespeare in Love (1998)                                        2369\n",
      "Princess Bride, The (1987)                                        2318\n",
      "Schindler's List (1993)                                           2304\n",
      "L.A. Confidential (1997)                                          2288\n",
      "Groundhog Day (1993)                                              2278\n",
      "E.T. the Extra-Terrestrial (1982)                                 2269\n",
      "Star Wars: Episode I - The Phantom Menace (1999)                  2250\n",
      "Being John Malkovich (1999)                                       2241\n",
      "Shawshank Redemption, The (1994)                                  2227\n",
      "Godfather, The (1972)                                             2223\n",
      "Forrest Gump (1994)                                               2194\n",
      "Ghostbusters (1984)                                               2181\n",
      "Pulp Fiction (1994)                                               2171\n",
      "Terminator, The (1984)                                            2098\n",
      "Toy Story (1995)                                                  2077\n",
      "                                                                  ... \n",
      "Running Scared (1986)                                              259\n",
      "Cocoon: The Return (1988)                                          259\n",
      "Cradle Will Rock, The (1999)                                       259\n",
      "Casper (1995)                                                      259\n",
      "Mis�rables, Les (1998)                                             259\n",
      "54 (1998)                                                          259\n",
      "Parent Trap, The (1961)                                            258\n",
      "7th Voyage of Sinbad, The (1958)                                   258\n",
      "Red Rock West (1992)                                               258\n",
      "Corrina, Corrina (1994)                                            257\n",
      "Forget Paris (1995)                                                257\n",
      "Diva (1981)                                                        257\n",
      "Outsiders, The (1983)                                              256\n",
      "Last Man Standing (1996)                                           256\n",
      "Muppet Treasure Island (1996)                                      256\n",
      "Last Temptation of Christ, The (1988)                              254\n",
      "Disclosure (1994)                                                  254\n",
      "Farewell My Concubine (1993)                                       254\n",
      "Falcon and the Snowman, The (1984)                                 253\n",
      "39 Steps, The (1935)                                               253\n",
      "Bottle Rocket (1996)                                               253\n",
      "Take the Money and Run (1969)                                      252\n",
      "Bachelor, The (1999)                                               252\n",
      "Man Who Knew Too Little, The (1997)                                252\n",
      "Bicycle Thief, The (Ladri di biciclette) (1948)                    252\n",
      "Top Hat (1935)                                                     251\n",
      "Teenage Mutant Ninja Turtles II: The Secret of the Ooze (1991)     251\n",
      "Wes Craven's New Nightmare (1994)                                  251\n",
      "Presidio, The (1988)                                               251\n",
      "U Turn (1997)                                                      250\n",
      "Name: title, Length: 1215, dtype: int64\n"
     ]
    }
   ],
   "source": [
    "### Your Code HERE\n",
    "import numpy as np\n",
    "data = pd.merge(pd.merge(ratings, users), movies)\n",
    "print (data.shape)\n",
    "#data.dropna(how='any', axis=0, inplace=True)\n",
    "print (data.columns)\n",
    "print (data.shape)\n",
    "titles = data[\"title\"].value_counts()\n",
    "np.where(titles==250)\n",
    "print (titles[0:1215])\n",
    "\n",
    "#data[data.isna()]\n",
    "#print (data.isna)"
   ]
  },
  {
   "cell_type": "markdown",
   "metadata": {},
   "source": [
    "**Using the previous filtered films**:\n",
    "\n",
    "2- Obtain the mean ratings for each movie grouped by gender"
   ]
  },
  {
   "cell_type": "code",
   "execution_count": 30,
   "metadata": {},
   "outputs": [],
   "source": [
    "### Your Code HERE\n",
    "Mdata=data[data[\"gender\"]=='M']\n",
    "Fdata=data[data[\"gender\"]=='F']\n",
    "#data[\"Frating\"]=data[\"gender\"]=='F'\n",
    "#data[\"Mrating\"].head()\n",
    "#data[\"Frating\"].head()\n",
    "Mgroup=Mdata[[\"title\",\"rating\"]].groupby('title').mean()\n",
    "Fgroup=Fdata[[\"title\",\"rating\"]].groupby('title').mean()"
   ]
  },
  {
   "cell_type": "markdown",
   "metadata": {},
   "source": [
    "**Using the previous filtered films:**\n",
    "\n",
    "3- Show the films most valued by women."
   ]
  },
  {
   "cell_type": "code",
   "execution_count": 31,
   "metadata": {},
   "outputs": [
    {
     "name": "stdout",
     "output_type": "stream",
     "text": [
      "                                                      rating\n",
      "title                                                       \n",
      "Clean Slate (Coup de Torchon) (1981)                5.000000\n",
      "Ballad of Narayama, The (Narayama Bushiko) (1958)   5.000000\n",
      "Raw Deal (1948)                                     5.000000\n",
      "Bittersweet Motel (2000)                            5.000000\n",
      "Skipped Parts (2000)                                5.000000\n",
      "Lamerica (1994)                                     5.000000\n",
      "Gambler, The (A J�t�kos) (1997)                     5.000000\n",
      "Brother, Can You Spare a Dime? (1975)               5.000000\n",
      "Ayn Rand: A Sense of Life (1997)                    5.000000\n",
      "24 7: Twenty Four Seven (1997)                      5.000000\n",
      "Twice Upon a Yesterday (1998)                       5.000000\n",
      "Woman of Paris, A (1923)                            5.000000\n",
      "I Am Cuba (Soy Cuba/Ya Kuba) (1964)                 5.000000\n",
      "Gate of Heavenly Peace, The (1995)                  5.000000\n",
      "For the Moment (1994)                               5.000000\n",
      "Country Life (1994)                                 5.000000\n",
      "Prisoner of the Mountains (Kavkazsky Plennik) (...  5.000000\n",
      "Other Side of Sunday, The (S�ndagsengler) (1996)    5.000000\n",
      "Saltmen of Tibet, The (1997)                        5.000000\n",
      "Big Combo, The (1955)                               5.000000\n",
      "One Little Indian (1973)                            5.000000\n",
      "Message to Love: The Isle of Wight Festival (1996)  5.000000\n",
      "Belly (1998)                                        5.000000\n",
      "Song of Freedom (1936)                              5.000000\n",
      "Coldblooded (1995)                                  5.000000\n",
      "Battling Butler (1926)                              5.000000\n",
      "Dancemaker (1998)                                   5.000000\n",
      "World of Apu, The (Apur Sansar) (1959)              4.842105\n",
      "Hearts and Minds (1996)                             4.833333\n",
      "Apple, The (Sib) (1998)                             4.750000\n"
     ]
    }
   ],
   "source": [
    "### Your Code HERE\n",
    "#print (Mgroup.sort_values(by='rating', ascending= False).head(20))\n",
    "print (Fgroup.sort_values(by='rating', ascending= False).head(30))"
   ]
  },
  {
   "cell_type": "markdown",
   "metadata": {},
   "source": [
    "**Using the previous filtered films:**\n",
    "\n",
    "4- Now we wonder which movies are rated more differently between men and women. \n",
    "    * Which films have more different rating and are more highly valued by women? \n",
    "    * Andthe films preferred by men which doesn't liked women? \n",
    "    * What are the films that have generated the most discordant ratings, regardless of gender?"
   ]
  },
  {
   "cell_type": "code",
   "execution_count": 32,
   "metadata": {},
   "outputs": [
    {
     "name": "stdout",
     "output_type": "stream",
     "text": [
      "                                      rating\n",
      "title                                       \n",
      "Small Wonders (1996)                3.333333\n",
      "Gate of Heavenly Peace, The (1995)  5.000000\n",
      "Dangerous Game (1993)               4.000000\n",
      "Angela (1995)                       3.000000\n",
      "Bells, The (1926)                   4.000000\n"
     ]
    },
    {
     "data": {
      "text/html": [
       "<div>\n",
       "<style scoped>\n",
       "    .dataframe tbody tr th:only-of-type {\n",
       "        vertical-align: middle;\n",
       "    }\n",
       "\n",
       "    .dataframe tbody tr th {\n",
       "        vertical-align: top;\n",
       "    }\n",
       "\n",
       "    .dataframe thead th {\n",
       "        text-align: right;\n",
       "    }\n",
       "</style>\n",
       "<table border=\"1\" class=\"dataframe\">\n",
       "  <thead>\n",
       "    <tr style=\"text-align: right;\">\n",
       "      <th></th>\n",
       "      <th>rating</th>\n",
       "    </tr>\n",
       "    <tr>\n",
       "      <th>title</th>\n",
       "      <th></th>\n",
       "    </tr>\n",
       "  </thead>\n",
       "  <tbody>\n",
       "    <tr>\n",
       "      <th>Foreign Student (1994)</th>\n",
       "      <td>2.828427</td>\n",
       "    </tr>\n",
       "    <tr>\n",
       "      <th>Criminal Lovers (Les Amants Criminels) (1999)</th>\n",
       "      <td>2.309401</td>\n",
       "    </tr>\n",
       "    <tr>\n",
       "      <th>Identification of a Woman (Identificazione di una donna) (1982)</th>\n",
       "      <td>2.121320</td>\n",
       "    </tr>\n",
       "    <tr>\n",
       "      <th>Tokyo Fist (1995)</th>\n",
       "      <td>2.121320</td>\n",
       "    </tr>\n",
       "    <tr>\n",
       "      <th>Better Living (1998)</th>\n",
       "      <td>2.121320</td>\n",
       "    </tr>\n",
       "    <tr>\n",
       "      <th>Paralyzing Fear: The Story of Polio in America, A (1998)</th>\n",
       "      <td>2.121320</td>\n",
       "    </tr>\n",
       "    <tr>\n",
       "      <th>Eaten Alive (1976)</th>\n",
       "      <td>2.121320</td>\n",
       "    </tr>\n",
       "    <tr>\n",
       "      <th>Living Dead Girl, The (La Morte Vivante) (1982)</th>\n",
       "      <td>2.121320</td>\n",
       "    </tr>\n",
       "  </tbody>\n",
       "</table>\n",
       "</div>"
      ],
      "text/plain": [
       "                                                      rating\n",
       "title                                                       \n",
       "Foreign Student (1994)                              2.828427\n",
       "Criminal Lovers (Les Amants Criminels) (1999)       2.309401\n",
       "Identification of a Woman (Identificazione di u...  2.121320\n",
       "Tokyo Fist (1995)                                   2.121320\n",
       "Better Living (1998)                                2.121320\n",
       "Paralyzing Fear: The Story of Polio in America,...  2.121320\n",
       "Eaten Alive (1976)                                  2.121320\n",
       "Living Dead Girl, The (La Morte Vivante) (1982)     2.121320"
      ]
     },
     "execution_count": 32,
     "metadata": {},
     "output_type": "execute_result"
    }
   ],
   "source": [
    "### Your Code HERE\n",
    "# q. 4.1 Different rating\n",
    "Fstdgroup=Fdata[[\"title\",\"rating\"]].groupby('title').std()\n",
    "Fstdgroup.sort_values(by='rating', ascending= False).head(8)\n",
    "# highly valued by women (same as q.3)\n",
    "\n",
    "# q.4.2\n",
    "MHR = Mgroup.sort_values(by='rating', ascending= False).head(11)\n",
    "Mtitles = MHR.index\n",
    "#print (Mtitles)\n",
    "ltitles = [list(Fgroup.index).index(x) for x in Mtitles if x in Fgroup.index ]\n",
    "print (Fgroup.iloc[ltitles])\n",
    "# Answer Angela and Small Wonders\n",
    "\n",
    "# q.4.3\n",
    "stdgroup=data[[\"title\",\"rating\"]].groupby('title').std()\n",
    "stdgroup.sort_values(by='rating', ascending= False).head(8)"
   ]
  },
  {
   "cell_type": "markdown",
   "metadata": {},
   "source": [
    "5- Calculate the average rating of each user. "
   ]
  },
  {
   "cell_type": "code",
   "execution_count": 33,
   "metadata": {},
   "outputs": [
    {
     "data": {
      "text/html": [
       "<div>\n",
       "<style scoped>\n",
       "    .dataframe tbody tr th:only-of-type {\n",
       "        vertical-align: middle;\n",
       "    }\n",
       "\n",
       "    .dataframe tbody tr th {\n",
       "        vertical-align: top;\n",
       "    }\n",
       "\n",
       "    .dataframe thead th {\n",
       "        text-align: right;\n",
       "    }\n",
       "</style>\n",
       "<table border=\"1\" class=\"dataframe\">\n",
       "  <thead>\n",
       "    <tr style=\"text-align: right;\">\n",
       "      <th></th>\n",
       "      <th>rating</th>\n",
       "    </tr>\n",
       "    <tr>\n",
       "      <th>user_id</th>\n",
       "      <th></th>\n",
       "    </tr>\n",
       "  </thead>\n",
       "  <tbody>\n",
       "    <tr>\n",
       "      <th>1</th>\n",
       "      <td>4.188679</td>\n",
       "    </tr>\n",
       "    <tr>\n",
       "      <th>2</th>\n",
       "      <td>3.713178</td>\n",
       "    </tr>\n",
       "    <tr>\n",
       "      <th>3</th>\n",
       "      <td>3.901961</td>\n",
       "    </tr>\n",
       "    <tr>\n",
       "      <th>4</th>\n",
       "      <td>4.190476</td>\n",
       "    </tr>\n",
       "    <tr>\n",
       "      <th>5</th>\n",
       "      <td>3.146465</td>\n",
       "    </tr>\n",
       "    <tr>\n",
       "      <th>6</th>\n",
       "      <td>3.901408</td>\n",
       "    </tr>\n",
       "    <tr>\n",
       "      <th>7</th>\n",
       "      <td>4.322581</td>\n",
       "    </tr>\n",
       "    <tr>\n",
       "      <th>8</th>\n",
       "      <td>3.884892</td>\n",
       "    </tr>\n",
       "    <tr>\n",
       "      <th>9</th>\n",
       "      <td>3.735849</td>\n",
       "    </tr>\n",
       "    <tr>\n",
       "      <th>10</th>\n",
       "      <td>4.114713</td>\n",
       "    </tr>\n",
       "  </tbody>\n",
       "</table>\n",
       "</div>"
      ],
      "text/plain": [
       "           rating\n",
       "user_id          \n",
       "1        4.188679\n",
       "2        3.713178\n",
       "3        3.901961\n",
       "4        4.190476\n",
       "5        3.146465\n",
       "6        3.901408\n",
       "7        4.322581\n",
       "8        3.884892\n",
       "9        3.735849\n",
       "10       4.114713"
      ]
     },
     "execution_count": 33,
     "metadata": {},
     "output_type": "execute_result"
    }
   ],
   "source": [
    "### Your Code HERE\n",
    "data.columns\n",
    "data[[\"rating\",\"user_id\",\"rating\"]]\n",
    "data[[\"user_id\",\"rating\"]].groupby('user_id').mean().head(10)\n"
   ]
  },
  {
   "cell_type": "markdown",
   "metadata": {},
   "source": [
    "6- What is the highest rated movie in average that have received at least 250 ratings?"
   ]
  },
  {
   "cell_type": "code",
   "execution_count": 34,
   "metadata": {},
   "outputs": [
    {
     "data": {
      "text/html": [
       "<div>\n",
       "<style scoped>\n",
       "    .dataframe tbody tr th:only-of-type {\n",
       "        vertical-align: middle;\n",
       "    }\n",
       "\n",
       "    .dataframe tbody tr th {\n",
       "        vertical-align: top;\n",
       "    }\n",
       "\n",
       "    .dataframe thead th {\n",
       "        text-align: right;\n",
       "    }\n",
       "</style>\n",
       "<table border=\"1\" class=\"dataframe\">\n",
       "  <thead>\n",
       "    <tr style=\"text-align: right;\">\n",
       "      <th></th>\n",
       "      <th>rating</th>\n",
       "    </tr>\n",
       "    <tr>\n",
       "      <th>title</th>\n",
       "      <th></th>\n",
       "    </tr>\n",
       "  </thead>\n",
       "  <tbody>\n",
       "    <tr>\n",
       "      <th>One Flew Over the Cuckoo's Nest (1975)</th>\n",
       "      <td>4.347624</td>\n",
       "    </tr>\n",
       "  </tbody>\n",
       "</table>\n",
       "</div>"
      ],
      "text/plain": [
       "                                          rating\n",
       "title                                           \n",
       "One Flew Over the Cuckoo's Nest (1975)  4.347624"
      ]
     },
     "execution_count": 34,
     "metadata": {},
     "output_type": "execute_result"
    }
   ],
   "source": [
    "### Your Code HERE\n",
    "data250 = data.loc[titles]\n",
    "mean250=data250[[\"title\",\"rating\"]].groupby('title').mean()\n",
    "mean250.sort_values(by='rating', ascending= False).head(1)"
   ]
  },
  {
   "cell_type": "markdown",
   "metadata": {},
   "source": [
    "7- Define a function called  <b>top_movies</b> that given an user and a number n, it returns the top n movies for this user.\n",
    "\n"
   ]
  },
  {
   "cell_type": "code",
   "execution_count": 35,
   "metadata": {},
   "outputs": [
    {
     "data": {
      "text/html": [
       "<div>\n",
       "<style scoped>\n",
       "    .dataframe tbody tr th:only-of-type {\n",
       "        vertical-align: middle;\n",
       "    }\n",
       "\n",
       "    .dataframe tbody tr th {\n",
       "        vertical-align: top;\n",
       "    }\n",
       "\n",
       "    .dataframe thead th {\n",
       "        text-align: right;\n",
       "    }\n",
       "</style>\n",
       "<table border=\"1\" class=\"dataframe\">\n",
       "  <thead>\n",
       "    <tr style=\"text-align: right;\">\n",
       "      <th></th>\n",
       "      <th>title</th>\n",
       "      <th>rating</th>\n",
       "    </tr>\n",
       "  </thead>\n",
       "  <tbody>\n",
       "    <tr>\n",
       "      <th>243229</th>\n",
       "      <td>L.A. Confidential (1997)</td>\n",
       "      <td>5</td>\n",
       "    </tr>\n",
       "    <tr>\n",
       "      <th>257775</th>\n",
       "      <td>Out of Sight (1998)</td>\n",
       "      <td>5</td>\n",
       "    </tr>\n",
       "    <tr>\n",
       "      <th>76063</th>\n",
       "      <td>Gladiator (2000)</td>\n",
       "      <td>5</td>\n",
       "    </tr>\n",
       "    <tr>\n",
       "      <th>96100</th>\n",
       "      <td>Braveheart (1995)</td>\n",
       "      <td>5</td>\n",
       "    </tr>\n",
       "    <tr>\n",
       "      <th>140415</th>\n",
       "      <td>Matrix, The (1999)</td>\n",
       "      <td>5</td>\n",
       "    </tr>\n",
       "    <tr>\n",
       "      <th>163561</th>\n",
       "      <td>Fifth Element, The (1997)</td>\n",
       "      <td>5</td>\n",
       "    </tr>\n",
       "    <tr>\n",
       "      <th>334710</th>\n",
       "      <td>Patriot, The (2000)</td>\n",
       "      <td>5</td>\n",
       "    </tr>\n",
       "    <tr>\n",
       "      <th>238511</th>\n",
       "      <td>Seven (Se7en) (1995)</td>\n",
       "      <td>5</td>\n",
       "    </tr>\n",
       "    <tr>\n",
       "      <th>610825</th>\n",
       "      <td>From Dusk Till Dawn (1996)</td>\n",
       "      <td>4</td>\n",
       "    </tr>\n",
       "    <tr>\n",
       "      <th>577615</th>\n",
       "      <td>Superman II (1980)</td>\n",
       "      <td>4</td>\n",
       "    </tr>\n",
       "  </tbody>\n",
       "</table>\n",
       "</div>"
      ],
      "text/plain": [
       "                             title  rating\n",
       "243229    L.A. Confidential (1997)       5\n",
       "257775         Out of Sight (1998)       5\n",
       "76063             Gladiator (2000)       5\n",
       "96100            Braveheart (1995)       5\n",
       "140415          Matrix, The (1999)       5\n",
       "163561   Fifth Element, The (1997)       5\n",
       "334710         Patriot, The (2000)       5\n",
       "238511        Seven (Se7en) (1995)       5\n",
       "610825  From Dusk Till Dawn (1996)       4\n",
       "577615          Superman II (1980)       4"
      ]
     },
     "execution_count": 35,
     "metadata": {},
     "output_type": "execute_result"
    }
   ],
   "source": [
    "### Your Code HERE\n",
    "def top_movies(user,n):\n",
    "    global data\n",
    "    Udata=data[data[\"user_id\"]==user]\n",
    "    topUdata = Udata.sort_values(by='rating', ascending= False).head(n)\n",
    "    return topUdata[[\"title\",\"rating\"]]\n",
    "top_movies(20,10)"
   ]
  },
  {
   "cell_type": "markdown",
   "metadata": {},
   "source": [
    "**Data from CSV**\n",
    "\n",
    "8- Read data from csv file: `ma-ba.csv`. Count the number of times `Barça` wins `Madrid` and compute the stadistics of % win, % lose and % draw."
   ]
  },
  {
   "cell_type": "code",
   "execution_count": 125,
   "metadata": {},
   "outputs": [
    {
     "data": {
      "text/plain": [
       "(260, 6)"
      ]
     },
     "execution_count": 125,
     "metadata": {},
     "output_type": "execute_result"
    }
   ],
   "source": [
    "### Your Code HERE\n",
    "maba =  'ma-ba.csv'\n",
    "\n",
    "\n",
    "unames = ['id', 'Date', 'Location', 'Match', 'Result','Competition']\n",
    "data = pd.read_csv(maba, sep=',', header=None, names=unames, engine='python')\n",
    "\n",
    "data.drop(data.index[0], inplace=True)\n",
    "#data=data.replace('Madrid FC - Barcelona', 'R. Madrid - Barcelona')\n",
    "\n",
    "data[\"Match\"] = [name.replace('Barcelona - Madrid FC', 'Barcelona - R. Madrid') for name in data[\"Match\"]]\n",
    "data[\"Match\"] = [name.replace('Madrid FC - Barcelona', 'R. Madrid - Barcelona') for name in data[\"Match\"]]\n",
    "data[\"Location\"] = [name.strip() for name in data[\"Location\"]]\n",
    "\n",
    "#data[\"Location\"]=='(Madrid)'\n",
    "data[\"Location\"][1]\n",
    "mw=0\n",
    "bw=0\n",
    "draws=0\n",
    "data[\"Result\"] = data[\"Result\"].str.split('-')\n",
    "\n",
    "data.shape\n"
   ]
  },
  {
   "cell_type": "markdown",
   "metadata": {},
   "source": [
    "#### !!! Compare your results with the csv files located in results.zip !!!"
   ]
  },
  {
   "cell_type": "code",
   "execution_count": null,
   "metadata": {},
   "outputs": [],
   "source": []
  },
  {
   "cell_type": "code",
   "execution_count": null,
   "metadata": {},
   "outputs": [],
   "source": []
  }
 ],
 "metadata": {
  "kernelspec": {
   "display_name": "Python 3",
   "language": "python",
   "name": "python3"
  },
  "language_info": {
   "codemirror_mode": {
    "name": "ipython",
    "version": 3
   },
   "file_extension": ".py",
   "mimetype": "text/x-python",
   "name": "python",
   "nbconvert_exporter": "python",
   "pygments_lexer": "ipython3",
   "version": "3.7.3"
  }
 },
 "nbformat": 4,
 "nbformat_minor": 1
}
